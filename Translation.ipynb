{
 "cells": [
  {
   "cell_type": "markdown",
   "metadata": {},
   "source": [
    "### 要求"
   ]
  },
  {
   "cell_type": "code",
   "execution_count": 2,
   "metadata": {},
   "outputs": [],
   "source": [
    "from __future__ import unicode_literals, print_function, division\n",
    "from io import open\n",
    "import unicodedata\n",
    "import string\n",
    "import re\n",
    "import random\n",
    "\n",
    "import torch\n",
    "import torch.nn as nn\n",
    "from torch import optim\n",
    "import torch.nn.functional as F\n",
    "\n",
    "device = torch.device(\"cuda\" if torch.cuda.is_available() else \"cpu\")"
   ]
  },
  {
   "cell_type": "markdown",
   "metadata": {},
   "source": [
    "### 加载数据文件"
   ]
  },
  {
   "cell_type": "code",
   "execution_count": 3,
   "metadata": {},
   "outputs": [],
   "source": [
    "SOS_token = 0\n",
    "EOS_token = 1\n",
    "\n",
    "\n",
    "class Lang:\n",
    "    def __init__(self, name):\n",
    "        self.name = name\n",
    "        self.word2index = {}\n",
    "        self.word2count = {}\n",
    "        self.index2word = {0: \"SOS\", 1: \"EOS\"}\n",
    "        self.n_words = 2  # Count SOS and EOS\n",
    "\n",
    "    def addSentence(self, sentence):\n",
    "        for word in sentence.split(' '):\n",
    "            self.addWord(word)\n",
    "\n",
    "    def addWord(self, word):\n",
    "        if word not in self.word2index:\n",
    "            self.word2index[word] = self.n_words\n",
    "            self.word2count[word] = 1\n",
    "            self.index2word[self.n_words] = word\n",
    "            self.n_words += 1\n",
    "        else:\n",
    "            self.word2count[word] += 1"
   ]
  },
  {
   "cell_type": "code",
   "execution_count": 4,
   "metadata": {},
   "outputs": [],
   "source": [
    "# Turn a Unicode string to plain ASCII, thanks to\n",
    "# https://stackoverflow.com/a/518232/2809427\n",
    "def unicodeToAscii(s):\n",
    "    return ''.join(\n",
    "        c for c in unicodedata.normalize('NFD', s)\n",
    "        if unicodedata.category(c) != 'Mn'\n",
    "    )\n",
    "\n",
    "# Lowercase, trim, and remove non-letter characters\n",
    "\n",
    "\n",
    "def normalizeString(s):\n",
    "   s = s.lower().strip()\n",
    "   if ' ' not in s:\n",
    "       s = list(s)\n",
    "       s = ' '.join(s)\n",
    "   s = unicodeToAscii(s)\n",
    "   s = re.sub(r\"([.!?])\", r\" \\1\", s)\n",
    "   return s"
   ]
  },
  {
   "cell_type": "code",
   "execution_count": 5,
   "metadata": {},
   "outputs": [],
   "source": [
    "def readLangs(lang1, lang2, reverse=True):\n",
    "    print(\"Reading lines...\")\n",
    "\n",
    "    # Read the file and split into lines\n",
    "    lines = open('cmn.txt', encoding='utf-8').\\\n",
    "        read().strip().split('\\n')\n",
    "\n",
    "    # Split every line into pairs and normalize\n",
    "    pairs = [[normalizeString(s) for s in l.split('\\t')[:2]] for l in lines]\n",
    "\n",
    "    # Reverse pairs, make Lang instances\n",
    "    if reverse:\n",
    "        pairs = [list(reversed(p)) for p in pairs]\n",
    "        input_lang = Lang(lang2)\n",
    "        output_lang = Lang(lang1)\n",
    "    else:\n",
    "        input_lang = Lang(lang1)\n",
    "        output_lang = Lang(lang2)\n",
    "\n",
    "    return input_lang, output_lang, pairs"
   ]
  },
  {
   "cell_type": "code",
   "execution_count": 6,
   "metadata": {},
   "outputs": [],
   "source": [
    "MAX_LENGTH = 10\n",
    "\n",
    "eng_prefixes = (\n",
    "    \"i am \", \"i m \",\n",
    "    \"he is\", \"he s \",\n",
    "    \"she is\", \"she s \",\n",
    "    \"you are\", \"you re \",\n",
    "    \"we are\", \"we re \",\n",
    "    \"they are\", \"they re \"\n",
    ")\n",
    "\n",
    "\n",
    "def filterPair(p):\n",
    "    return len(p[0].split(' ')) < MAX_LENGTH and \\\n",
    "        len(p[1].split(' ')) < MAX_LENGTH and \\\n",
    "        p[1].startswith(eng_prefixes)\n",
    "\n",
    "\n",
    "def filterPairs(pairs):\n",
    "    return [pair for pair in pairs if filterPair(pair)]"
   ]
  },
  {
   "cell_type": "code",
   "execution_count": 7,
   "metadata": {},
   "outputs": [],
   "source": [
    "def prepareData(lang1, lang2, reverse=True):\n",
    "    input_lang, output_lang, pairs = readLangs(lang1, lang2, reverse)\n",
    "    print(\"Read %s sentence pairs\" % len(pairs))\n",
    "    pairs = filterPairs(pairs)\n",
    "    print(\"Trimmed to %s sentence pairs\" % len(pairs))\n",
    "    print(\"Counting words...\")\n",
    "    for pair in pairs:\n",
    "        input_lang.addSentence(pair[0])\n",
    "        output_lang.addSentence(pair[1])\n",
    "    print(\"Counted words:\")\n",
    "    print(input_lang.name, input_lang.n_words)\n",
    "    print(output_lang.name, output_lang.n_words)\n",
    "    return input_lang, output_lang, pairs"
   ]
  },
  {
   "cell_type": "markdown",
   "metadata": {},
   "source": [
    "### 测试加载"
   ]
  },
  {
   "cell_type": "code",
   "execution_count": 8,
   "metadata": {
    "scrolled": true
   },
   "outputs": [
    {
     "name": "stdout",
     "output_type": "stream",
     "text": [
      "Reading lines...\n",
      "Read 23610 sentence pairs\n",
      "Trimmed to 449 sentence pairs\n",
      "Counting words...\n",
      "Counted words:\n",
      "cmn 676\n",
      "eng 549\n",
      "['他 是 教 师 。', 'he is a teacher .']\n"
     ]
    }
   ],
   "source": [
    "input_lang, output_lang, pairs = prepareData('eng', 'cmn', True)\n",
    "print(random.choice(pairs))"
   ]
  },
  {
   "cell_type": "markdown",
   "metadata": {},
   "source": [
    "### 编码器"
   ]
  },
  {
   "cell_type": "code",
   "execution_count": 9,
   "metadata": {},
   "outputs": [],
   "source": [
    "class EncoderRNN(nn.Module):\n",
    "    def __init__(self, input_size, hidden_size):\n",
    "        super(EncoderRNN, self).__init__()\n",
    "        self.hidden_size = hidden_size\n",
    "\n",
    "        self.embedding = nn.Embedding(input_size, hidden_size)\n",
    "        self.gru = nn.GRU(hidden_size, hidden_size)\n",
    "\n",
    "    def forward(self, input, hidden):\n",
    "        embedded = self.embedding(input).view(1, 1, -1)\n",
    "        output = embedded\n",
    "        output, hidden = self.gru(output, hidden)\n",
    "        return output, hidden\n",
    "\n",
    "    def initHidden(self):\n",
    "        return torch.zeros(1, 1, self.hidden_size, device=device)"
   ]
  },
  {
   "cell_type": "markdown",
   "metadata": {},
   "source": [
    "### 解码器"
   ]
  },
  {
   "cell_type": "code",
   "execution_count": 10,
   "metadata": {},
   "outputs": [],
   "source": [
    "class DecoderRNN(nn.Module):\n",
    "    def __init__(self, hidden_size, output_size):\n",
    "        super(DecoderRNN, self).__init__()\n",
    "        self.hidden_size = hidden_size\n",
    "\n",
    "        self.embedding = nn.Embedding(output_size, hidden_size)\n",
    "        self.gru = nn.GRU(hidden_size, hidden_size)\n",
    "        self.out = nn.Linear(hidden_size, output_size)\n",
    "        self.softmax = nn.LogSoftmax(dim=1)\n",
    "\n",
    "    def forward(self, input, hidden):\n",
    "        output = self.embedding(input).view(1, 1, -1)\n",
    "        output = F.relu(output)\n",
    "        output, hidden = self.gru(output, hidden)\n",
    "        output = self.softmax(self.out(output[0]))\n",
    "        return output, hidden\n",
    "\n",
    "    def initHidden(self):\n",
    "        return torch.zeros(1, 1, self.hidden_size, device=device)"
   ]
  },
  {
   "cell_type": "markdown",
   "metadata": {},
   "source": [
    "### 注意力机制的解码器"
   ]
  },
  {
   "cell_type": "code",
   "execution_count": 11,
   "metadata": {},
   "outputs": [],
   "source": [
    "class AttnDecoderRNN(nn.Module):\n",
    "    def __init__(self, hidden_size, output_size, dropout_p=0.1, max_length=MAX_LENGTH):\n",
    "        super(AttnDecoderRNN, self).__init__()\n",
    "        self.hidden_size = hidden_size\n",
    "        self.output_size = output_size\n",
    "        self.dropout_p = dropout_p\n",
    "        self.max_length = max_length\n",
    "\n",
    "        self.embedding = nn.Embedding(self.output_size, self.hidden_size)\n",
    "        self.attn = nn.Linear(self.hidden_size * 2, self.max_length)\n",
    "        self.attn_combine = nn.Linear(self.hidden_size * 2, self.hidden_size)\n",
    "        self.dropout = nn.Dropout(self.dropout_p)\n",
    "        self.gru = nn.GRU(self.hidden_size, self.hidden_size)\n",
    "        self.out = nn.Linear(self.hidden_size, self.output_size)\n",
    "\n",
    "    def forward(self, input, hidden, encoder_outputs):\n",
    "        embedded = self.embedding(input).view(1, 1, -1)\n",
    "        embedded = self.dropout(embedded)\n",
    "\n",
    "        attn_weights = F.softmax(\n",
    "            self.attn(torch.cat((embedded[0], hidden[0]), 1)), dim=1)\n",
    "        attn_applied = torch.bmm(attn_weights.unsqueeze(0),\n",
    "                                 encoder_outputs.unsqueeze(0))\n",
    "\n",
    "        output = torch.cat((embedded[0], attn_applied[0]), 1)\n",
    "        output = self.attn_combine(output).unsqueeze(0)\n",
    "\n",
    "        output = F.relu(output)\n",
    "        output, hidden = self.gru(output, hidden)\n",
    "\n",
    "        output = F.log_softmax(self.out(output[0]), dim=1)\n",
    "        return output, hidden, attn_weights\n",
    "\n",
    "    def initHidden(self):\n",
    "        return torch.zeros(1, 1, self.hidden_size, device=device)"
   ]
  },
  {
   "cell_type": "markdown",
   "metadata": {},
   "source": [
    "### 准备训练数据"
   ]
  },
  {
   "cell_type": "code",
   "execution_count": 12,
   "metadata": {},
   "outputs": [],
   "source": [
    "def indexesFromSentence(lang, sentence):\n",
    "    return [lang.word2index[word] for word in sentence.split(' ')]\n",
    "\n",
    "\n",
    "def tensorFromSentence(lang, sentence):\n",
    "    indexes = indexesFromSentence(lang, sentence)\n",
    "    indexes.append(EOS_token)\n",
    "    return torch.tensor(indexes, dtype=torch.long, device=device).view(-1, 1)\n",
    "\n",
    "\n",
    "def tensorsFromPair(pair):\n",
    "    input_tensor = tensorFromSentence(input_lang, pair[0])\n",
    "    target_tensor = tensorFromSentence(output_lang, pair[1])\n",
    "    return (input_tensor, target_tensor)"
   ]
  },
  {
   "cell_type": "markdown",
   "metadata": {},
   "source": [
    "### 训练模型"
   ]
  },
  {
   "cell_type": "code",
   "execution_count": 13,
   "metadata": {},
   "outputs": [],
   "source": [
    "teacher_forcing_ratio = 0.5\n",
    "\n",
    "\n",
    "def train(input_tensor, target_tensor, encoder, decoder, encoder_optimizer, decoder_optimizer, criterion, max_length=MAX_LENGTH):\n",
    "    encoder_hidden = encoder.initHidden()\n",
    "\n",
    "    encoder_optimizer.zero_grad()\n",
    "    decoder_optimizer.zero_grad()\n",
    "\n",
    "    input_length = input_tensor.size(0)\n",
    "    target_length = target_tensor.size(0)\n",
    "\n",
    "    encoder_outputs = torch.zeros(max_length, encoder.hidden_size, device=device)\n",
    "\n",
    "    loss = 0\n",
    "\n",
    "    for ei in range(input_length):\n",
    "        encoder_output, encoder_hidden = encoder(\n",
    "            input_tensor[ei], encoder_hidden)\n",
    "        encoder_outputs[ei] = encoder_output[0, 0]\n",
    "\n",
    "    decoder_input = torch.tensor([[SOS_token]], device=device)\n",
    "\n",
    "    decoder_hidden = encoder_hidden\n",
    "\n",
    "    use_teacher_forcing = True if random.random() < teacher_forcing_ratio else False\n",
    "\n",
    "    if use_teacher_forcing:\n",
    "        # Teacher forcing: Feed the target as the next input\n",
    "        for di in range(target_length):\n",
    "            decoder_output, decoder_hidden, decoder_attention = decoder(\n",
    "                decoder_input, decoder_hidden, encoder_outputs)\n",
    "            loss += criterion(decoder_output, target_tensor[di])\n",
    "            decoder_input = target_tensor[di]  # Teacher forcing\n",
    "\n",
    "    else:\n",
    "        # Without teacher forcing: use its own predictions as the next input\n",
    "        for di in range(target_length):\n",
    "            decoder_output, decoder_hidden, decoder_attention = decoder(\n",
    "                decoder_input, decoder_hidden, encoder_outputs)\n",
    "            topv, topi = decoder_output.topk(1)\n",
    "            decoder_input = topi.squeeze().detach()  # detach from history as input\n",
    "\n",
    "            loss += criterion(decoder_output, target_tensor[di])\n",
    "            if decoder_input.item() == EOS_token:\n",
    "                break\n",
    "\n",
    "    loss.backward()\n",
    "\n",
    "    encoder_optimizer.step()\n",
    "    decoder_optimizer.step()\n",
    "\n",
    "    return loss.item() / target_length"
   ]
  },
  {
   "cell_type": "markdown",
   "metadata": {},
   "source": [
    "### 辅助功能"
   ]
  },
  {
   "cell_type": "code",
   "execution_count": 14,
   "metadata": {},
   "outputs": [],
   "source": [
    "import time\n",
    "import math\n",
    "\n",
    "\n",
    "def asMinutes(s):\n",
    "    m = math.floor(s / 60)\n",
    "    s -= m * 60\n",
    "    return '%dm %ds' % (m, s)\n",
    "\n",
    "\n",
    "def timeSince(since, percent):\n",
    "    now = time.time()\n",
    "    s = now - since\n",
    "    es = s / (percent)\n",
    "    rs = es - s\n",
    "    return '%s (- %s)' % (asMinutes(s), asMinutes(rs))"
   ]
  },
  {
   "cell_type": "markdown",
   "metadata": {},
   "source": [
    "### 训练"
   ]
  },
  {
   "cell_type": "code",
   "execution_count": 15,
   "metadata": {},
   "outputs": [],
   "source": [
    "def trainIters(encoder, decoder, n_iters, print_every=1000, plot_every=100, learning_rate=0.01):\n",
    "    start = time.time()\n",
    "    plot_losses = []\n",
    "    print_loss_total = 0  # Reset every print_every\n",
    "    plot_loss_total = 0  # Reset every plot_every\n",
    "\n",
    "    encoder_optimizer = optim.SGD(encoder.parameters(), lr=learning_rate)\n",
    "    decoder_optimizer = optim.SGD(decoder.parameters(), lr=learning_rate)\n",
    "    training_pairs = [tensorsFromPair(random.choice(pairs))\n",
    "                      for i in range(n_iters)]\n",
    "    criterion = nn.NLLLoss()\n",
    "\n",
    "    for iter in range(1, n_iters + 1):\n",
    "        training_pair = training_pairs[iter - 1]\n",
    "        input_tensor = training_pair[0]\n",
    "        target_tensor = training_pair[1]\n",
    "\n",
    "        loss = train(input_tensor, target_tensor, encoder,\n",
    "                     decoder, encoder_optimizer, decoder_optimizer, criterion)\n",
    "        print_loss_total += loss\n",
    "        plot_loss_total += loss\n",
    "\n",
    "        if iter % print_every == 0:\n",
    "            print_loss_avg = print_loss_total / print_every\n",
    "            print_loss_total = 0\n",
    "            print('%s (%d %d%%) %.4f' % (timeSince(start, iter / n_iters),\n",
    "                                         iter, iter / n_iters * 100, print_loss_avg))\n",
    "\n",
    "        if iter % plot_every == 0:\n",
    "            plot_loss_avg = plot_loss_total / plot_every\n",
    "            plot_losses.append(plot_loss_avg)\n",
    "            plot_loss_total = 0\n",
    "\n",
    "    plt.plot(plot_losses, color=\"b\", label=\"loss\")\n",
    "    plt.legend()\n",
    "    plt.xlabel(\"epoch\")\n",
    "    plt.ylabel(\"loss\")\n",
    "    return(plot_losses)"
   ]
  },
  {
   "cell_type": "markdown",
   "metadata": {},
   "source": [
    "### 结果可视化"
   ]
  },
  {
   "cell_type": "code",
   "execution_count": 16,
   "metadata": {},
   "outputs": [],
   "source": [
    "import matplotlib.pyplot as plt\n",
    "import matplotlib.ticker as ticker\n",
    "import numpy as np\n",
    "\n",
    "\n",
    "def showPlot(points):\n",
    "    plt.figure()\n",
    "    fig, ax = plt.subplots()\n",
    "    # this locator puts ticks at regular intervals\n",
    "    loc = ticker.MultipleLocator(base=0.2)\n",
    "    ax.yaxis.set_major_locator(loc)\n",
    "    plt.plot(points)"
   ]
  },
  {
   "cell_type": "markdown",
   "metadata": {},
   "source": [
    "### 评估"
   ]
  },
  {
   "cell_type": "code",
   "execution_count": 17,
   "metadata": {},
   "outputs": [],
   "source": [
    "def evaluate(encoder, decoder, sentence, max_length=MAX_LENGTH):\n",
    "    with torch.no_grad():\n",
    "        input_tensor = tensorFromSentence(input_lang, sentence)\n",
    "        input_length = input_tensor.size()[0]\n",
    "        encoder_hidden = encoder.initHidden()\n",
    "\n",
    "        encoder_outputs = torch.zeros(max_length, encoder.hidden_size, device=device)\n",
    "\n",
    "        for ei in range(input_length):\n",
    "            encoder_output, encoder_hidden = encoder(input_tensor[ei],\n",
    "                                                     encoder_hidden)\n",
    "            encoder_outputs[ei] += encoder_output[0, 0]\n",
    "\n",
    "        decoder_input = torch.tensor([[SOS_token]], device=device)  # SOS\n",
    "\n",
    "        decoder_hidden = encoder_hidden\n",
    "\n",
    "        decoded_words = []\n",
    "        decoder_attentions = torch.zeros(max_length, max_length)\n",
    "\n",
    "        for di in range(max_length):\n",
    "            decoder_output, decoder_hidden, decoder_attention = decoder(\n",
    "                decoder_input, decoder_hidden, encoder_outputs)\n",
    "            decoder_attentions[di] = decoder_attention.data\n",
    "            topv, topi = decoder_output.data.topk(1)\n",
    "            if topi.item() == EOS_token:\n",
    "                decoded_words.append('<EOS>')\n",
    "                break\n",
    "            else:\n",
    "                decoded_words.append(output_lang.index2word[topi.item()])\n",
    "\n",
    "            decoder_input = topi.squeeze().detach()\n",
    "\n",
    "        return decoded_words, decoder_attentions[:di + 1]"
   ]
  },
  {
   "cell_type": "code",
   "execution_count": 18,
   "metadata": {},
   "outputs": [],
   "source": [
    "from nltk.translate.bleu_score import sentence_bleu\n",
    "\n",
    "def evaluateRandomly(encoder, decoder, n=100):\n",
    "    tot_bleu_score = 0\n",
    "    for i in range(n):\n",
    "        pair = random.choice(pairs)\n",
    "        print('>', pair[0])\n",
    "        print('=', pair[1])\n",
    "        output_words, attentions = evaluate(encoder, decoder, pair[0])\n",
    "        output_sentence = ' '.join(output_words)\n",
    "        print('<', output_sentence)\n",
    "        words = pair[1].strip(' ').split(' ')\n",
    "        kk = []\n",
    "        words.append('<EOS>')\n",
    "        kk.append(words)\n",
    "        bleu_score = sentence_bleu(kk, output_words)\n",
    "        tot_bleu_score += bleu_score\n",
    "        print(\"bleu score = \", bleu_score)\n",
    "        print('')\n",
    "    print(\"average bleu score = \", tot_bleu_score/n)"
   ]
  },
  {
   "cell_type": "code",
   "execution_count": 72,
   "metadata": {
    "scrolled": true
   },
   "outputs": [
    {
     "name": "stdout",
     "output_type": "stream",
     "text": [
      "2m 14s (- 31m 18s) (5000 6%) 2.2098\n",
      "4m 36s (- 29m 56s) (10000 13%) 0.5086\n",
      "6m 55s (- 27m 40s) (15000 20%) 0.0739\n",
      "9m 13s (- 25m 21s) (20000 26%) 0.0484\n",
      "11m 32s (- 23m 4s) (25000 33%) 0.0432\n",
      "13m 53s (- 20m 50s) (30000 40%) 0.0411\n",
      "16m 19s (- 18m 39s) (35000 46%) 0.0341\n",
      "18m 46s (- 16m 25s) (40000 53%) 0.0335\n",
      "21m 7s (- 14m 5s) (45000 60%) 0.0349\n",
      "23m 25s (- 11m 42s) (50000 66%) 0.0310\n",
      "25m 46s (- 9m 22s) (55000 73%) 0.0344\n",
      "28m 6s (- 7m 1s) (60000 80%) 0.0290\n",
      "30m 30s (- 4m 41s) (65000 86%) 0.0306\n",
      "32m 57s (- 2m 21s) (70000 93%) 0.0281\n",
      "35m 44s (- 0m 0s) (75000 100%) 0.0311\n"
     ]
    },
    {
     "data": {
      "image/png": "[encoded data removed]",
      "text/plain": [
       "<Figure size 432x288 with 1 Axes>"
      ]
     },
     "metadata": {
      "needs_background": "light"
     },
     "output_type": "display_data"
    }
   ],
   "source": [
    "hidden_size = 256\n",
    "encoder1 = EncoderRNN(input_lang.n_words, hidden_size).to(device)\n",
    "attn_decoder1 = AttnDecoderRNN(hidden_size, output_lang.n_words, dropout_p=0.1).to(device)\n",
    "\n",
    "plot_losses = trainIters(encoder1, attn_decoder1, 75000, print_every=5000)\n"
   ]
  },
  {
   "cell_type": "markdown",
   "metadata": {},
   "source": [
    "### 保存模型"
   ]
  },
  {
   "cell_type": "code",
   "execution_count": 73,
   "metadata": {
    "scrolled": true
   },
   "outputs": [
    {
     "data": {
      "text/plain": [
       "['attn_decoder1.txt']"
      ]
     },
     "execution_count": 73,
     "metadata": {},
     "output_type": "execute_result"
    }
   ],
   "source": [
    "from joblib import dump\n",
    "dump(encoder1, \"encoder1.txt\")  \n",
    "dump(attn_decoder1, \"attn_decoder1.txt\")"
   ]
  },
  {
   "cell_type": "markdown",
   "metadata": {},
   "source": [
    "### 加载模型"
   ]
  },
  {
   "cell_type": "code",
   "execution_count": 19,
   "metadata": {},
   "outputs": [],
   "source": [
    "from joblib import load\n",
    "encoder1 = load(\"encoder1.txt\")\n",
    "attn_decoder1 = load(\"attn_decoder1.txt\")"
   ]
  },
  {
   "cell_type": "code",
   "execution_count": 20,
   "metadata": {},
   "outputs": [],
   "source": [
    "plt.rcParams['font.sans-serif'] = ['KaiTi'] # 指定默认字体\n",
    "plt.rcParams['axes.unicode_minus'] = False # 解决保存图像是负号'-'显示为方块的问题"
   ]
  },
  {
   "cell_type": "code",
   "execution_count": 70,
   "metadata": {
    "scrolled": true
   },
   "outputs": [
    {
     "name": "stdout",
     "output_type": "stream",
     "text": [
      "> 他 是 教 师 。\n",
      "= he is a teacher .\n",
      "< he is a teacher . <EOS>\n",
      "bleu score =  1.0\n",
      "\n",
      "> 我 对 运 动 感 兴 趣 。\n",
      "= i am interested in sports .\n",
      "< i am interested in sports . <EOS>\n",
      "bleu score =  1.0\n",
      "\n",
      "> 我 是 个 学 生 。\n",
      "= i am a student .\n",
      "< i am a student . <EOS>\n",
      "bleu score =  1.0\n",
      "\n",
      "> 他 正 在 散 步 。\n",
      "= he is taking a walk .\n",
      "< he is taking a walk . <EOS>\n",
      "bleu score =  1.0\n",
      "\n",
      "> 你 擋 住 了 我 的 路 。\n",
      "= you are in my way .\n",
      "< you are in my way . <EOS>\n",
      "bleu score =  1.0\n",
      "\n",
      "> 他 跟 我 過 不 去 。\n",
      "= he is giving me a hard time .\n",
      "< he is giving me a hard time . <EOS>\n",
      "bleu score =  1.0\n",
      "\n",
      "> 这 是 一 个 小 偷 。\n",
      "= he is a thief .\n",
      "< he is a thief . <EOS>\n",
      "bleu score =  1.0\n",
      "\n",
      "> 他 们 在 吃 午 饭 。\n",
      "= they are at lunch .\n",
      "< they are at lunch . <EOS>\n",
      "bleu score =  1.0\n",
      "\n",
      "> 我 是 一 个 好 男 孩 。\n",
      "= i am a good boy .\n",
      "< i am a good boy . <EOS>\n",
      "bleu score =  1.0\n",
      "\n",
      "> 她 是 個 很 棒 的 女 人 。\n",
      "= she is a wonderful woman .\n",
      "< she is a wonderful woman . <EOS>\n",
      "bleu score =  1.0\n",
      "\n",
      "> 她 下 週 要 去 法 國 。\n",
      "= she is going to france next week .\n",
      "< she is going to france next week . <EOS>\n",
      "bleu score =  1.0\n",
      "\n",
      "> 他 很 難 對 付 。\n",
      "= he is hard to deal with .\n",
      "< he is hard to deal with . <EOS>\n",
      "bleu score =  1.0\n",
      "\n",
      "> 你 們 比 她 高 。\n",
      "= you are taller than she is .\n",
      "< you are taller than she is . <EOS>\n",
      "bleu score =  1.0\n",
      "\n",
      "> 她 現 在 八 十 一 歲 了 。\n",
      "= she is now eighty-one years old .\n",
      "< she is now eighty-one years old . <EOS>\n",
      "bleu score =  1.0\n",
      "\n",
      "> 她 將 去 立 山 。\n",
      "= she is going to mount tate .\n",
      "< she is going to mount tate . <EOS>\n",
      "bleu score =  1.0\n",
      "\n",
      "> 我 是 札 幌 的 市 民 。\n",
      "= i am a citizen of sapporo .\n",
      "< i am a citizen of sapporo . <EOS>\n",
      "bleu score =  1.0\n",
      "\n",
      "> 他 和 我 同 岁 。\n",
      "= he is just my age .\n",
      "< he is just my age . me . <EOS>\n",
      "bleu score =  0.6389431042462724\n",
      "\n",
      "> 你 在 撒 谎 。\n",
      "= you are lying .\n",
      "< you are lying . <EOS>\n",
      "bleu score =  1.0\n",
      "\n",
      "> 他 只 是 跟 你 開 玩 笑 。\n",
      "= he is just pulling your leg .\n",
      "< he is just pulling your leg . <EOS>\n",
      "bleu score =  1.0\n",
      "\n",
      "> 他 是 我 部 門 的 主 管 。\n",
      "= he is the chief of my department .\n",
      "< he is the chief of my department . <EOS>\n",
      "bleu score =  1.0\n",
      "\n",
      "> 你 和 我 一 样 高 。\n",
      "= you are as tall as i am .\n",
      "< you are as tall as i am . <EOS>\n",
      "bleu score =  1.0\n",
      "\n",
      "> 他 不 是 傻 子 。\n",
      "= he is not stupid .\n",
      "< he is no fool . <EOS>\n",
      "bleu score =  1.0719249972567852e-154\n",
      "\n",
      "> 我 是 你 爸 爸 。\n",
      "= i am your father .\n",
      "< i am your father . <EOS>\n",
      "bleu score =  1.0\n",
      "\n",
      "> 他 是 老 师 。\n",
      "= he is a teacher .\n",
      "< he is a teacher . <EOS>\n",
      "bleu score =  1.0\n",
      "\n",
      "> 他 是 我 父 親 。\n",
      "= he is my father .\n",
      "< he is my father . <EOS>\n",
      "bleu score =  1.0\n",
      "\n",
      "> 我 下 一 站 下 车 。\n",
      "= i am getting off at the next station .\n",
      "< i am getting off at the next station . <EOS>\n",
      "bleu score =  1.0\n",
      "\n",
      "> 他 武 装 到 牙 齒 。\n",
      "= he is armed to the teeth .\n",
      "< he is armed to the teeth . <EOS>\n",
      "bleu score =  1.0\n",
      "\n",
      "> 他 很 擅 長 橄 欖 球 。\n",
      "= he is good at rugby .\n",
      "< he is good at rugby . <EOS>\n",
      "bleu score =  1.0\n",
      "\n",
      "> 他 是 医 生 来 的 。\n",
      "= he is a doctor .\n",
      "< he is a doctor . <EOS>\n",
      "bleu score =  1.0\n",
      "\n",
      "> 他 不 關 心 錢 。\n",
      "= he is careless about money .\n",
      "<"
     ]
    },
    {
     "name": "stderr",
     "output_type": "stream",
     "text": [
      "D:\\Anaconda3\\lib\\site-packages\\nltk\\translate\\bleu_score.py:516: UserWarning: \n",
      "The hypothesis contains 0 counts of 3-gram overlaps.\n",
      "Therefore the BLEU score evaluates to 0, independently of\n",
      "how many N-gram overlaps of lower order it contains.\n",
      "Consider using lower n-gram order or use SmoothingFunction()\n",
      "  warnings.warn(_msg)\n",
      "D:\\Anaconda3\\lib\\site-packages\\nltk\\translate\\bleu_score.py:516: UserWarning: \n",
      "The hypothesis contains 0 counts of 4-gram overlaps.\n",
      "Therefore the BLEU score evaluates to 0, independently of\n",
      "how many N-gram overlaps of lower order it contains.\n",
      "Consider using lower n-gram order or use SmoothingFunction()\n",
      "  warnings.warn(_msg)\n"
     ]
    },
    {
     "name": "stdout",
     "output_type": "stream",
     "text": [
      " he is careless about money . <EOS>\n",
      "bleu score =  1.0\n",
      "\n",
      "> 他 浑 身 是 债 。\n",
      "= he is up to his ears in debt .\n",
      "< he is up to his ears in debt . <EOS>\n",
      "bleu score =  1.0\n",
      "\n",
      "> 我 贊 成 你 的 建 議 。\n",
      "= i am in favor of your proposal .\n",
      "< i am in favor of your proposal . <EOS>\n",
      "bleu score =  1.0\n",
      "\n",
      "> 我 在 右 邊 。\n",
      "= i am on the right .\n",
      "< i am on the right . <EOS>\n",
      "bleu score =  1.0\n",
      "\n",
      "> 他 習 慣 早 起 。\n",
      "= he is used to getting up early .\n",
      "< he is used to getting up early . <EOS>\n",
      "bleu score =  1.0\n",
      "\n",
      "> 你 总 是 迟 到 。\n",
      "= you are always late .\n",
      "< you are always late . <EOS>\n",
      "bleu score =  1.0\n",
      "\n",
      "> 我 在 班 里 是 最 高 的 。\n",
      "= i am the tallest in our class .\n",
      "< i am the tallest in our class . <EOS>\n",
      "bleu score =  1.0\n",
      "\n",
      "> 我 来 自 葡 萄 牙 。\n",
      "= i am from portugal .\n",
      "< i am from portugal . <EOS>\n",
      "bleu score =  1.0\n",
      "\n",
      "> 我 在 祈 禱 。\n",
      "= i am praying .\n",
      "< i am praying . <EOS>\n",
      "bleu score =  1.0\n",
      "\n",
      "> 我 週 日 哪 裡 也 不 去 。\n",
      "= i am not going anywhere on sunday .\n",
      "< i am not going anywhere on sunday . <EOS>\n",
      "bleu score =  1.0\n",
      "\n",
      "> 我 不 是 正 在 寫 信 。\n",
      "= i am not writing a letter .\n",
      "< i am not writing a letter . <EOS>\n",
      "bleu score =  1.0\n",
      "\n",
      "> 我 1 6 岁 了 。\n",
      "= i am sixteen years old .\n",
      "< i am sixteen years old . <EOS>\n",
      "bleu score =  1.0\n",
      "\n",
      "> 他 是 从 法 国 来 的 。\n",
      "= he is from france .\n",
      "< he is from france . <EOS>\n",
      "bleu score =  1.0\n",
      "\n",
      "> 他 很 英 俊 。\n",
      "= he is very handsome .\n",
      "< he is very handsome . <EOS>\n",
      "bleu score =  1.0\n",
      "\n",
      "> 我 不 是 學 生 。\n",
      "= i am not a student .\n",
      "< i am not a student . <EOS>\n",
      "bleu score =  1.0\n",
      "\n",
      "> 她 非 常 周 到 和 耐 心 。\n",
      "= she is very thoughtful and patient .\n",
      "< she is very thoughtful and patient . <EOS>\n",
      "bleu score =  1.0\n",
      "\n",
      "> 你 不 是 个 懦 夫 。\n",
      "= you are not a coward .\n",
      "< you are not a coward . <EOS>\n",
      "bleu score =  1.0\n",
      "\n",
      "> 他 比 任 何 人 都 好 。\n",
      "= he is better than anyone else .\n",
      "< he is better than anyone else . <EOS>\n",
      "bleu score =  1.0\n",
      "\n",
      "> 我 不 擅 長 游 泳 。\n",
      "= i am poor at swimming .\n",
      "< i am poor at swimming . <EOS>\n",
      "bleu score =  1.0\n",
      "\n",
      "> 我 不 怕 死 。\n",
      "= i am not afraid of dying .\n",
      "< i am not afraid of dying . <EOS>\n",
      "bleu score =  1.0\n",
      "\n",
      "> 她 不 是 一 個 好 廚 師 。\n",
      "= she isn't a good cook .\n",
      "< she isn't a good cook . <EOS>\n",
      "bleu score =  1.0\n",
      "\n",
      "> 她 只 是 個 孩 子 。\n",
      "= she is nothing but a child .\n",
      "< she is nothing but a child . <EOS>\n",
      "bleu score =  1.0\n",
      "\n",
      "> 我 星 期 日 總 是 在 家 。\n",
      "= i am always at home on sundays .\n",
      "< i am always at home on sundays . <EOS>\n",
      "bleu score =  1.0\n",
      "\n",
      "> 他 跟 您 年 纪 差 不 多 。\n",
      "= he is about your age .\n",
      "< he is about your age . <EOS>\n",
      "bleu score =  1.0\n",
      "\n",
      "> 你 没 受 到 邀 请 。\n",
      "= you aren't invited .\n",
      "< you aren't invited . <EOS>\n",
      "bleu score =  1.0\n",
      "\n",
      "> 他 很 容 易 遲 到 。\n",
      "= he is apt to be late .\n",
      "< he is apt to be late . <EOS>\n",
      "bleu score =  1.0\n",
      "\n",
      "> 我 確 定 他 是 錯 的 。\n",
      "= i am positive that he is wrong .\n",
      "< i am positive that he is wrong . <EOS>\n",
      "bleu score =  1.0\n",
      "\n",
      "> 她 擅 長 打 網 球 。\n",
      "= she is good at playing tennis .\n",
      "< she is good at playing tennis . <EOS>\n",
      "bleu score =  1.0\n",
      "\n",
      "> 她 陶 醉 在 幸 福 裡 。\n",
      "= she is drunk with happiness .\n",
      "< she is drunk with happiness . <EOS>\n",
      "bleu score =  1.0\n",
      "\n",
      "> 他 和 他 的 員 工 相 處 。\n",
      "= he is getting along with his employees .\n",
      "< he is getting along with his employees . <EOS>\n",
      "bleu score =  1.0\n",
      "\n",
      "> 我 为 我 父 亲 而 自 豪 。\n",
      "= i am proud of my father .\n",
      "< i am proud of my father . <EOS>\n",
      "bleu score =  1.0\n",
      "\n",
      "> 她 跟 你 一 樣 高 。\n",
      "= she is as tall as you .\n",
      "< she is as tall as you . <EOS>\n",
      "bleu score =  1.0\n",
      "\n",
      "> 他 精 通 波 斯 语 。\n",
      "= he is proficient in farsi .\n",
      "< he is proficient in farsi . <EOS>\n",
      "bleu score =  1.0\n",
      "\n",
      "> 她 天 生 体 弱 。\n",
      "= she is weak by nature .\n",
      "< she is weak by nature . <EOS>\n",
      "bleu score =  1.0\n",
      "\n",
      "> 我 是 一 名 電 工 。\n",
      "= i am an electrician .\n",
      "< i am an electrician . <EOS>\n",
      "bleu score =  1.0\n",
      "\n",
      "> 他 今 晚 会 来 我 家 。\n",
      "= he is to come to my house tonight .\n",
      "< he is to come to my house tonight . <EOS>\n",
      "bleu score =  1.0\n",
      "\n",
      "> 我 相 信 他 是 無 辜 的 。\n",
      "= i am convinced that he is innocent .\n",
      "< i am convinced that he is innocent . <EOS>\n",
      "bleu score =  1.0\n",
      "\n",
      "> 我 有 點 醉 了 。\n",
      "= i am a bit drunk .\n",
      "< i am a bit drunk . <EOS>\n",
      "bleu score =  1.0\n",
      "\n",
      "> 他 经 常 翘 课 。\n",
      "= he is often absent from school .\n",
      "< he is often absent from school . <EOS>\n",
      "bleu score =  1.0\n",
      "\n",
      "> 他 总 是 在 笑 。\n",
      "= he is always laughing .\n",
      "< he is always laughing . <EOS>\n",
      "bleu score =  1.0\n",
      "\n",
      "> 他 和 他 爸 爸 一 样 高 。\n",
      "= he is as tall as his father .\n",
      "< he is as tall as his father . <EOS>\n",
      "bleu score =  1.0\n",
      "\n",
      "> 他 还 在 这 儿 。\n",
      "= he is still here .\n",
      "< he is still here . <EOS>\n",
      "bleu score =  1.0\n",
      "\n",
      "> 你 們 不 再 是 小 孩 了 。\n",
      "= you aren't kids anymore .\n",
      "< you aren't kids anymore . <EOS>\n",
      "bleu score =  1.0\n",
      "\n",
      "> 她 非 常 周 到 和 耐 心 。\n",
      "= she is very thoughtful and patient .\n",
      "< she is very thoughtful and patient . <EOS>\n",
      "bleu score =  1.0\n",
      "\n",
      "> 她 總 是 一 身 黑 。\n",
      "= she is always dressed in black .\n",
      "< she is always dressed in black . <EOS>\n",
      "bleu score =  1.0\n",
      "\n",
      "> 我 們 很 快 樂 。\n",
      "= we are happy .\n",
      "< we are happy . <EOS>\n",
      "bleu score =  1.0\n",
      "\n",
      "> 你 不 會 來 ， 是 嗎 ？\n",
      "= you are not coming, are you ?\n",
      "< you are not coming, are you ? <EOS>\n",
      "bleu score =  1.0\n",
      "\n",
      "> 我 怕 死 。\n",
      "= i am afraid of dying .\n",
      "< i am afraid of dying . <EOS>\n",
      "bleu score =  1.0\n",
      "\n",
      "> 她 今 晚 離 開 去 美 國 。\n",
      "= she is leaving for america tonight .\n",
      "< she is leaving for america tonight . <EOS>\n",
      "bleu score =  1.0\n",
      "\n",
      "> 他 與 他 的 鄰 居 相 處 。\n",
      "= he is getting along with his neighborhood .\n",
      "< he is getting along with his neighborhood . <EOS>\n",
      "bleu score =  1.0\n",
      "\n",
      "> 你 不 怕 鬼 ， 不 是 麼 ？\n",
      "= you aren't afraid of ghosts, are you ?\n",
      "< you aren't afraid of ghosts, are you ? <EOS>\n",
      "bleu score =  1.0\n",
      "\n",
      "> 他 是 个 能 干 的 男 人 。\n",
      "= he is a man of ability .\n",
      "< he is a man of ability . <EOS>\n",
      "bleu score =  1.0\n",
      "\n",
      "> 他 是 这 么 的 无 情 。\n",
      "= he is so heartless .\n",
      "< he is so heartless . <EOS>\n",
      "bleu score =  1.0\n",
      "\n",
      "> 我 在 家 裡 。\n",
      "= i am in the house .\n",
      "< i am at home . <EOS>\n",
      "bleu score =  9.073649206312902e-155\n",
      "\n",
      "> 我 一 點 也 不 擔 心 。\n",
      "= i am not the least bit worried .\n",
      "< i am not the least bit worried . <EOS>\n",
      "bleu score =  1.0\n",
      "\n",
      "> 我 是 獨 生 子 。\n",
      "= i am an only child .\n",
      "< i am an only child . <EOS>\n",
      "bleu score =  1.0\n",
      "\n",
      "> 他 和 她 一 样 高 。\n",
      "= he is as tall as her .\n",
      "< he is as tall as her . <EOS>\n",
      "bleu score =  1.0\n",
      "\n",
      "> 她 不 是 一 個 好 廚 師 。\n",
      "= she isn't a good cook .\n",
      "< she isn't a good cook . <EOS>\n",
      "bleu score =  1.0\n",
      "\n",
      "> 我 在 右 邊 。\n",
      "= i am on the right .\n",
      "< i am on the right . <EOS>\n",
      "bleu score =  1.0\n",
      "\n",
      "> 我 在 車 站 附 近 。\n",
      "= i am near the station .\n",
      "< i am near the station . <EOS>\n",
      "bleu score =  1.0\n",
      "\n",
      "> 我 不 擅 長 游 泳 。\n",
      "= i am poor at swimming .\n",
      "< i am poor at swimming . <EOS>\n",
      "bleu score =  1.0\n",
      "\n",
      "> 他 喜 欢 冒 险 。\n",
      "= he is fond of adventure .\n",
      "< he is fond of adventure . <EOS>\n",
      "bleu score =  1.0\n",
      "\n",
      "> 你 累 了 ， 不 是 吗 ？\n",
      "= you are tired, aren't you ?\n",
      "< you are tired, aren't you ? <EOS>\n",
      "bleu score =  1.0\n",
      "\n",
      "> 她 的 母 語 是 法 語 。\n",
      "= she is a native speaker of french .\n",
      "< she is a native speaker of french . <EOS>\n",
      "bleu score =  1.0\n",
      "\n",
      "> 他 是 一 個 數 學 天 才 。\n",
      "= he is a mathematical genius .\n",
      "< he is a mathematical genius . <EOS>\n",
      "bleu score =  1.0\n",
      "\n",
      "> 他 是 个 棒 球 手 。\n",
      "= he is a baseball player .\n",
      "< he is a baseball player . <EOS>\n",
      "bleu score =  1.0\n",
      "\n",
      "> 他 一 天 一 天 地 好 轉 。\n",
      "= he is getting better day by day .\n",
      "< he is getting better day by day . <EOS>\n",
      "bleu score =  1.0\n",
      "\n",
      "> 她 现 在 正 在 工 作 。\n",
      "= she is at work right now .\n",
      "< she is at work right now . <EOS>\n",
      "bleu score =  1.0\n",
      "\n",
      "> 我 是 一 名 電 工 。\n",
      "= i am an electrician .\n",
      "< i am an electrician . <EOS>\n",
      "bleu score =  1.0\n",
      "\n",
      "> 她 是 个 倔 强 的 女 孩 。\n",
      "= she is an obstinate girl .\n",
      "< she is an obstinate girl . <EOS>\n",
      "bleu score =  1.0\n",
      "\n",
      "> 他 是 个 棒 球 手 。\n",
      "= he is a baseball player .\n",
      "< he is a baseball player . <EOS>\n",
      "bleu score =  1.0\n",
      "\n",
      "average bleu score =  0.9763894310424627\n"
     ]
    }
   ],
   "source": [
    "evaluateRandomly(encoder1, attn_decoder1)"
   ]
  },
  {
   "cell_type": "code",
   "execution_count": 20,
   "metadata": {
    "scrolled": true
   },
   "outputs": [
    {
     "data": {
      "text/plain": [
       "<matplotlib.image.AxesImage at 0x29d667b2880>"
      ]
     },
     "execution_count": 20,
     "metadata": {},
     "output_type": "execute_result"
    },
    {
     "data": {
      "image/png": "[encoded data removed]",
      "text/plain": [
       "<Figure size 360x288 with 1 Axes>"
      ]
     },
     "metadata": {
      "needs_background": "light"
     },
     "output_type": "display_data"
    }
   ],
   "source": [
    "output_words, attentions = evaluate(encoder1, attn_decoder1, \"他 依 旧 充 满 活 力 。\")\n",
    "plt.matshow(attentions.numpy())"
   ]
  },
  {
   "cell_type": "code",
   "execution_count": 22,
   "metadata": {},
   "outputs": [],
   "source": [
    "def showAttention(input_sentence, output_words, attentions):\n",
    "    # Set up figure with colorbar\n",
    "    fig = plt.figure()\n",
    "    ax = fig.add_subplot(111)\n",
    "    cax = ax.matshow(attentions.numpy(), cmap='bone')\n",
    "    fig.colorbar(cax)\n",
    "\n",
    "    # Set up axes\n",
    "    ax.set_xticklabels([''] + input_sentence.split(' ') +\n",
    "                       ['<EOS>'], rotation=90)\n",
    "    ax.set_yticklabels([''] + output_words)\n",
    "\n",
    "    # Show label at every tick\n",
    "    ax.xaxis.set_major_locator(ticker.MultipleLocator(1))\n",
    "    ax.yaxis.set_major_locator(ticker.MultipleLocator(1))\n",
    "\n",
    "    plt.show()\n",
    "\n",
    "\n",
    "def evaluateAndShowAttention(input_sentence):\n",
    "    output_words, attentions = evaluate(\n",
    "        encoder1, attn_decoder1, input_sentence)\n",
    "    print('input =', input_sentence)\n",
    "    print('output =', ' '.join(output_words))\n",
    "    showAttention(input_sentence, output_words, attentions)"
   ]
  },
  {
   "cell_type": "code",
   "execution_count": 23,
   "metadata": {},
   "outputs": [
    {
     "name": "stdout",
     "output_type": "stream",
     "text": [
      "input = 今 天 是 星 期 六 。\n",
      "output = i am sixteen years old . <EOS>\n"
     ]
    },
    {
     "data": {
      "image/png": "[encoded data removed]",
      "text/plain": [
       "<Figure size 432x288 with 2 Axes>"
      ]
     },
     "metadata": {
      "needs_background": "light"
     },
     "output_type": "display_data"
    }
   ],
   "source": [
    "evaluateAndShowAttention(\"今 天 是 星 期 六 。\")"
   ]
  },
  {
   "cell_type": "code",
   "execution_count": 24,
   "metadata": {
    "scrolled": true
   },
   "outputs": [
    {
     "name": "stdout",
     "output_type": "stream",
     "text": [
      "input = 我 草 你 爸 爸 。\n",
      "output = i am your father . <EOS>\n"
     ]
    },
    {
     "data": {
      "image/png": "[encoded data removed]",
      "text/plain": [
       "<Figure size 432x288 with 2 Axes>"
      ]
     },
     "metadata": {
      "needs_background": "light"
     },
     "output_type": "display_data"
    }
   ],
   "source": [
    "evaluateAndShowAttention(\"我 草 你 爸 爸 。\")"
   ]
  },
  {
   "cell_type": "code",
   "execution_count": 26,
   "metadata": {},
   "outputs": [
    {
     "name": "stdout",
     "output_type": "stream",
     "text": [
      "input = 他 的 狗 死 了 。\n",
      "output = he is afraid of death . <EOS>\n"
     ]
    },
    {
     "data": {
      "image/png": "[encoded data removed]",
      "text/plain": [
       "<Figure size 432x288 with 2 Axes>"
      ]
     },
     "metadata": {
      "needs_background": "light"
     },
     "output_type": "display_data"
    }
   ],
   "source": [
    "evaluateAndShowAttention(\"他 的 狗 死 了 。\")"
   ]
  },
  {
   "cell_type": "code",
   "execution_count": null,
   "metadata": {},
   "outputs": [],
   "source": []
  }
 ],
 "metadata": {
  "kernelspec": {
   "display_name": "Python 3",
   "language": "python",
   "name": "python3"
  },
  "language_info": {
   "codemirror_mode": {
    "name": "ipython",
    "version": 3
   },
   "file_extension": ".py",
   "mimetype": "text/x-python",
   "name": "python",
   "nbconvert_exporter": "python",
   "pygments_lexer": "ipython3",
   "version": "3.8.3"
  }
 },
 "nbformat": 4,
 "nbformat_minor": 4
}
